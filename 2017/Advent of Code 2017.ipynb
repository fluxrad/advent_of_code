{
 "cells": [
  {
   "cell_type": "markdown",
   "metadata": {},
   "source": [
    "# Advent of Code - 2017"
   ]
  },
  {
   "cell_type": "markdown",
   "metadata": {},
   "source": [
    "### Summary\n",
    "\n",
    "This year the idea is to learn a little bit about Jupyter. A side effect is that my Python isn't all that great, so this will also be a chance to re-engage with the language. Apologies for non-idiomatic language use. "
   ]
  },
  {
   "cell_type": "markdown",
   "metadata": {},
   "source": [
    "Some useful methods"
   ]
  },
  {
   "cell_type": "code",
   "execution_count": 3,
   "metadata": {},
   "outputs": [],
   "source": [
    "# Some utility functions borrowed liberally from\n",
    "# https://github.com/norvig/pytudes/blob/master/ipynb/Advent%202017.ipynb\n",
    "def mapt(fn, *args): \n",
    "    \"Do a map, and make the results into a tuple.\"\n",
    "    return tuple(map(fn, *args))\n",
    "\n",
    "# return a two-dimensional array of a thing\n",
    "def array(lines): \n",
    "    if isinstance(lines, str): lines = lines.splitlines()\n",
    "    return mapt(vector, lines)\n",
    "        \n",
    "def vector(line):\n",
    "    \"Parse a str into a tuple of atoms (numbers or str tokens).\"\n",
    "    return mapt(atom, line.split())\n",
    "\n",
    "def atom(token):\n",
    "    \"Parse a str token into a number, or leave it as a str.\"\n",
    "    try:\n",
    "        return int(token)\n",
    "    except ValueError:\n",
    "        try:\n",
    "            return float(token)\n",
    "        except ValueError:\n",
    "            return token"
   ]
  },
  {
   "cell_type": "markdown",
   "metadata": {},
   "source": [
    "## [Day 1](http://adventofcode.com/2017/day/1)"
   ]
  },
  {
   "cell_type": "code",
   "execution_count": 67,
   "metadata": {
    "scrolled": true
   },
   "outputs": [],
   "source": [
    "digits = mapt(int, '9384274494683632359351641411374573466273164687337536769779487433749179185568461296233353611992672753778126935276769885424719553291616136172298883156626254151278852582397949697874462178536295341822137377563322815527592267791213115418635363174876132196234374887626324931371241841242873783493835919238421879116421481543826222278152238576762132577763214642569545298668935216911493462229629786978273548147171384321525952959196377728493632872618291183256888417779495124837828187298244786175872713299271766246696631257484453347125176233373232245382158656142179687576388951175953419286858673221138553912229576523123114871637487978775855777483921896568333282333137175739746234262744256254149233843517254613981476355147487975859685936527161737644929119345127273149762325158784595946931447738173246311763677997888425452294562823751136515271874725143582623717324394587398371298523368386595426714148717735345237657249712685895921433468949182235146698174393928288313985355769799485511749423552935992391624424575278333625476148888355716967628454862834463357834291788479677576561681171516128495737923155533438413156639155128831349894646317546536886319328573512622325789672115171618195548534941184939233914166432349321992879287349932819135919518955561456615989137221875483561599493342981595678961836562435436285673764213941758954489582656271121429555455368545289416981624961261963953364918377483776322142975937971552271642224933926326665557787586927667898255947116988278131974381388514274833852552695679713424836536348449273149415872522111522749448188993159814183411853994579147867385867619467777654943169814287928966652552129439822741856512265955664872454951159255617513136142717471774698224566543617595742753244142364438589729356939483387466363477224283477843889679221229344974441624448489853764111425798141258155246636844914711222931548722647298953744242682551562166463942694715631497895981643174194294826868561578586851326262619731272665397711381459745281218196515155917877694663186732599688912878149242688741584822831861748845817871681621697944472377688658368145698614861456518138376989688166921187224726942589996534179549171859786241718727295379')\n",
    "N = len(digits)"
   ]
  },
  {
   "cell_type": "code",
   "execution_count": 68,
   "metadata": {},
   "outputs": [
    {
     "data": {
      "text/plain": [
       "1089"
      ]
     },
     "execution_count": 68,
     "metadata": {},
     "output_type": "execute_result"
    }
   ],
   "source": [
    "sum(digits[i]\n",
    "    for i in range(N)\n",
    "    if digits[i] == digits[i - 1])"
   ]
  },
  {
   "cell_type": "markdown",
   "metadata": {},
   "source": [
    "### Part 2"
   ]
  },
  {
   "cell_type": "code",
   "execution_count": 69,
   "metadata": {},
   "outputs": [
    {
     "data": {
      "text/plain": [
       "1156"
      ]
     },
     "execution_count": 69,
     "metadata": {},
     "output_type": "execute_result"
    }
   ],
   "source": [
    "sum(digits[i]\n",
    "   for i in range(N)\n",
    "   if digits[i] == digits[i - int(N/2)])"
   ]
  },
  {
   "cell_type": "markdown",
   "metadata": {},
   "source": [
    "## [Day 2](http://adventofcode.com/2017/day/2)"
   ]
  },
  {
   "cell_type": "code",
   "execution_count": 70,
   "metadata": {},
   "outputs": [],
   "source": [
    "rows = array('''414 382 1515 319 83 1327 116 391 101 749 1388 1046 1427 105 1341 1590\n",
    "960 930 192 147 932 621 1139 198 865 820 597 165 232 417 19 183\n",
    "3379 987 190 3844 1245 1503 3151 3349 2844 4033 175 3625 3565 179 3938 184\n",
    "116 51 32 155 102 92 65 42 48 91 74 69 52 89 20 143\n",
    "221 781 819 121 821 839 95 117 626 127 559 803 779 543 44 369\n",
    "199 2556 93 1101 122 124 2714 625 2432 1839 2700 2636 118 2306 1616 2799\n",
    "56 804 52 881 1409 47 246 1368 1371 583 49 1352 976 400 1276 1240\n",
    "1189 73 148 1089 93 76 3205 3440 3627 92 853 95 3314 3551 2929 3626\n",
    "702 169 492 167 712 488 357 414 187 278 87 150 19 818 178 686\n",
    "140 2220 1961 1014 2204 2173 1513 2225 443 123 148 580 833 1473 137 245\n",
    "662 213 1234 199 1353 1358 1408 235 917 1395 1347 194 565 179 768 650\n",
    "119 137 1908 1324 1085 661 1557 1661 1828 1865 432 110 658 821 1740 145\n",
    "1594 222 4140 963 209 2782 180 2591 4390 244 4328 3748 4535 192 157 3817\n",
    "334 275 395 128 347 118 353 281 430 156 312 386 160 194 63 141\n",
    "146 1116 153 815 2212 2070 599 3018 2640 47 125 2292 165 2348 2694 184\n",
    "1704 2194 1753 146 2063 1668 1280 615 163 190 2269 1856 150 158 2250 2459''')"
   ]
  },
  {
   "cell_type": "code",
   "execution_count": 14,
   "metadata": {},
   "outputs": [
    {
     "name": "stdout",
     "output_type": "stream",
     "text": [
      "30994\n"
     ]
    }
   ],
   "source": [
    "checksum = 0\n",
    "for i in range(len(rows)):\n",
    "    checksum += max(rows[i])-min(rows[i])\n",
    "print(checksum)"
   ]
  },
  {
   "cell_type": "code",
   "execution_count": null,
   "metadata": {},
   "outputs": [],
   "source": []
  }
 ],
 "metadata": {
  "kernelspec": {
   "display_name": "Python 3",
   "language": "python",
   "name": "python3"
  },
  "language_info": {
   "codemirror_mode": {
    "name": "ipython",
    "version": 3
   },
   "file_extension": ".py",
   "mimetype": "text/x-python",
   "name": "python",
   "nbconvert_exporter": "python",
   "pygments_lexer": "ipython3",
   "version": "3.6.3"
  }
 },
 "nbformat": 4,
 "nbformat_minor": 2
}
